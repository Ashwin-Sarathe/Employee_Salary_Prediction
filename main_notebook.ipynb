{
 "cells": [
  {
   "cell_type": "code",
   "execution_count": 10,
   "id": "4cddeef6",
   "metadata": {},
   "outputs": [],
   "source": [
    "import pandas as pd\n",
    "import numpy as np"
   ]
  },
  {
   "cell_type": "code",
   "execution_count": 11,
   "id": "bb6ec266",
   "metadata": {},
   "outputs": [
    {
     "data": {
      "text/html": [
       "<div>\n",
       "<style scoped>\n",
       "    .dataframe tbody tr th:only-of-type {\n",
       "        vertical-align: middle;\n",
       "    }\n",
       "\n",
       "    .dataframe tbody tr th {\n",
       "        vertical-align: top;\n",
       "    }\n",
       "\n",
       "    .dataframe thead th {\n",
       "        text-align: right;\n",
       "    }\n",
       "</style>\n",
       "<table border=\"1\" class=\"dataframe\">\n",
       "  <thead>\n",
       "    <tr style=\"text-align: right;\">\n",
       "      <th></th>\n",
       "      <th>age</th>\n",
       "      <th>workclass</th>\n",
       "      <th>fnlwgt</th>\n",
       "      <th>education</th>\n",
       "      <th>educational-num</th>\n",
       "      <th>marital-status</th>\n",
       "      <th>occupation</th>\n",
       "      <th>relationship</th>\n",
       "      <th>race</th>\n",
       "      <th>gender</th>\n",
       "      <th>capital-gain</th>\n",
       "      <th>capital-loss</th>\n",
       "      <th>hours-per-week</th>\n",
       "      <th>native-country</th>\n",
       "      <th>income</th>\n",
       "    </tr>\n",
       "  </thead>\n",
       "  <tbody>\n",
       "    <tr>\n",
       "      <th>0</th>\n",
       "      <td>25</td>\n",
       "      <td>Private</td>\n",
       "      <td>226802</td>\n",
       "      <td>11th</td>\n",
       "      <td>7</td>\n",
       "      <td>Never-married</td>\n",
       "      <td>Machine-op-inspct</td>\n",
       "      <td>Own-child</td>\n",
       "      <td>Black</td>\n",
       "      <td>Male</td>\n",
       "      <td>0</td>\n",
       "      <td>0</td>\n",
       "      <td>40</td>\n",
       "      <td>United-States</td>\n",
       "      <td>&lt;=50K</td>\n",
       "    </tr>\n",
       "    <tr>\n",
       "      <th>1</th>\n",
       "      <td>38</td>\n",
       "      <td>Private</td>\n",
       "      <td>89814</td>\n",
       "      <td>HS-grad</td>\n",
       "      <td>9</td>\n",
       "      <td>Married-civ-spouse</td>\n",
       "      <td>Farming-fishing</td>\n",
       "      <td>Husband</td>\n",
       "      <td>White</td>\n",
       "      <td>Male</td>\n",
       "      <td>0</td>\n",
       "      <td>0</td>\n",
       "      <td>50</td>\n",
       "      <td>United-States</td>\n",
       "      <td>&lt;=50K</td>\n",
       "    </tr>\n",
       "    <tr>\n",
       "      <th>2</th>\n",
       "      <td>28</td>\n",
       "      <td>Local-gov</td>\n",
       "      <td>336951</td>\n",
       "      <td>Assoc-acdm</td>\n",
       "      <td>12</td>\n",
       "      <td>Married-civ-spouse</td>\n",
       "      <td>Protective-serv</td>\n",
       "      <td>Husband</td>\n",
       "      <td>White</td>\n",
       "      <td>Male</td>\n",
       "      <td>0</td>\n",
       "      <td>0</td>\n",
       "      <td>40</td>\n",
       "      <td>United-States</td>\n",
       "      <td>&gt;50K</td>\n",
       "    </tr>\n",
       "    <tr>\n",
       "      <th>3</th>\n",
       "      <td>44</td>\n",
       "      <td>Private</td>\n",
       "      <td>160323</td>\n",
       "      <td>Some-college</td>\n",
       "      <td>10</td>\n",
       "      <td>Married-civ-spouse</td>\n",
       "      <td>Machine-op-inspct</td>\n",
       "      <td>Husband</td>\n",
       "      <td>Black</td>\n",
       "      <td>Male</td>\n",
       "      <td>7688</td>\n",
       "      <td>0</td>\n",
       "      <td>40</td>\n",
       "      <td>United-States</td>\n",
       "      <td>&gt;50K</td>\n",
       "    </tr>\n",
       "    <tr>\n",
       "      <th>4</th>\n",
       "      <td>18</td>\n",
       "      <td>?</td>\n",
       "      <td>103497</td>\n",
       "      <td>Some-college</td>\n",
       "      <td>10</td>\n",
       "      <td>Never-married</td>\n",
       "      <td>?</td>\n",
       "      <td>Own-child</td>\n",
       "      <td>White</td>\n",
       "      <td>Female</td>\n",
       "      <td>0</td>\n",
       "      <td>0</td>\n",
       "      <td>30</td>\n",
       "      <td>United-States</td>\n",
       "      <td>&lt;=50K</td>\n",
       "    </tr>\n",
       "  </tbody>\n",
       "</table>\n",
       "</div>"
      ],
      "text/plain": [
       "   age  workclass  fnlwgt     education  educational-num      marital-status  \\\n",
       "0   25    Private  226802          11th                7       Never-married   \n",
       "1   38    Private   89814       HS-grad                9  Married-civ-spouse   \n",
       "2   28  Local-gov  336951    Assoc-acdm               12  Married-civ-spouse   \n",
       "3   44    Private  160323  Some-college               10  Married-civ-spouse   \n",
       "4   18          ?  103497  Some-college               10       Never-married   \n",
       "\n",
       "          occupation relationship   race  gender  capital-gain  capital-loss  \\\n",
       "0  Machine-op-inspct    Own-child  Black    Male             0             0   \n",
       "1    Farming-fishing      Husband  White    Male             0             0   \n",
       "2    Protective-serv      Husband  White    Male             0             0   \n",
       "3  Machine-op-inspct      Husband  Black    Male          7688             0   \n",
       "4                  ?    Own-child  White  Female             0             0   \n",
       "\n",
       "   hours-per-week native-country income  \n",
       "0              40  United-States  <=50K  \n",
       "1              50  United-States  <=50K  \n",
       "2              40  United-States   >50K  \n",
       "3              40  United-States   >50K  \n",
       "4              30  United-States  <=50K  "
      ]
     },
     "execution_count": 11,
     "metadata": {},
     "output_type": "execute_result"
    }
   ],
   "source": [
    "df = pd.read_csv(\"dataset.csv\")\n",
    "df.head()"
   ]
  },
  {
   "cell_type": "code",
   "execution_count": 12,
   "id": "a81c4b26",
   "metadata": {},
   "outputs": [
    {
     "data": {
      "text/plain": [
       "age                0\n",
       "workclass          0\n",
       "fnlwgt             0\n",
       "education          0\n",
       "educational-num    0\n",
       "marital-status     0\n",
       "occupation         0\n",
       "relationship       0\n",
       "race               0\n",
       "gender             0\n",
       "capital-gain       0\n",
       "capital-loss       0\n",
       "hours-per-week     0\n",
       "native-country     0\n",
       "income             0\n",
       "dtype: int64"
      ]
     },
     "execution_count": 12,
     "metadata": {},
     "output_type": "execute_result"
    }
   ],
   "source": [
    "#null value check\n",
    "df.isna().sum()"
   ]
  },
  {
   "cell_type": "code",
   "execution_count": 13,
   "id": "0c50d343",
   "metadata": {},
   "outputs": [
    {
     "name": "stdout",
     "output_type": "stream",
     "text": [
      "occupation\n",
      "Prof-specialty       6172\n",
      "Craft-repair         6112\n",
      "Exec-managerial      6086\n",
      "Adm-clerical         5611\n",
      "Sales                5504\n",
      "Other-service        4923\n",
      "Machine-op-inspct    3022\n",
      "?                    2809\n",
      "Transport-moving     2355\n",
      "Handlers-cleaners    2072\n",
      "Farming-fishing      1490\n",
      "Tech-support         1446\n",
      "Protective-serv       983\n",
      "Priv-house-serv       242\n",
      "Armed-Forces           15\n",
      "Name: count, dtype: int64\n"
     ]
    }
   ],
   "source": [
    "print(df.occupation.value_counts())"
   ]
  },
  {
   "cell_type": "code",
   "execution_count": 14,
   "id": "20683a16",
   "metadata": {},
   "outputs": [
    {
     "name": "stdout",
     "output_type": "stream",
     "text": [
      "marital-status\n",
      "Married-civ-spouse       22379\n",
      "Never-married            16117\n",
      "Divorced                  6633\n",
      "Separated                 1530\n",
      "Widowed                   1518\n",
      "Married-spouse-absent      628\n",
      "Married-AF-spouse           37\n",
      "Name: count, dtype: int64\n"
     ]
    }
   ],
   "source": [
    "print(df['marital-status'].value_counts())"
   ]
  },
  {
   "cell_type": "code",
   "execution_count": 15,
   "id": "324042b3",
   "metadata": {},
   "outputs": [
    {
     "name": "stdout",
     "output_type": "stream",
     "text": [
      "native-country\n",
      "United-States                 43832\n",
      "Mexico                          951\n",
      "?                               857\n",
      "Philippines                     295\n",
      "Germany                         206\n",
      "Puerto-Rico                     184\n",
      "Canada                          182\n",
      "El-Salvador                     155\n",
      "India                           151\n",
      "Cuba                            138\n",
      "England                         127\n",
      "China                           122\n",
      "South                           115\n",
      "Jamaica                         106\n",
      "Italy                           105\n",
      "Dominican-Republic              103\n",
      "Japan                            92\n",
      "Guatemala                        88\n",
      "Poland                           87\n",
      "Vietnam                          86\n",
      "Columbia                         85\n",
      "Haiti                            75\n",
      "Portugal                         67\n",
      "Taiwan                           65\n",
      "Iran                             59\n",
      "Greece                           49\n",
      "Nicaragua                        49\n",
      "Peru                             46\n",
      "Ecuador                          45\n",
      "France                           38\n",
      "Ireland                          37\n",
      "Hong                             30\n",
      "Thailand                         30\n",
      "Cambodia                         28\n",
      "Trinadad&Tobago                  27\n",
      "Laos                             23\n",
      "Yugoslavia                       23\n",
      "Outlying-US(Guam-USVI-etc)       23\n",
      "Scotland                         21\n",
      "Honduras                         20\n",
      "Hungary                          19\n",
      "Holand-Netherlands                1\n",
      "Name: count, dtype: int64\n"
     ]
    }
   ],
   "source": [
    "print(df['native-country'].value_counts())"
   ]
  },
  {
   "cell_type": "code",
   "execution_count": 16,
   "id": "05628606",
   "metadata": {},
   "outputs": [
    {
     "name": "stdout",
     "output_type": "stream",
     "text": [
      "relationship\n",
      "Husband           19716\n",
      "Not-in-family     12583\n",
      "Own-child          7581\n",
      "Unmarried          5125\n",
      "Wife               2331\n",
      "Other-relative     1506\n",
      "Name: count, dtype: int64\n"
     ]
    }
   ],
   "source": [
    "print(df['relationship'].value_counts())"
   ]
  },
  {
   "cell_type": "code",
   "execution_count": 17,
   "id": "da365f9a",
   "metadata": {},
   "outputs": [
    {
     "name": "stdout",
     "output_type": "stream",
     "text": [
      "race\n",
      "White                 41762\n",
      "Black                  4685\n",
      "Asian-Pac-Islander     1519\n",
      "Amer-Indian-Eskimo      470\n",
      "Other                   406\n",
      "Name: count, dtype: int64\n"
     ]
    }
   ],
   "source": [
    "print(df['race'].value_counts())"
   ]
  },
  {
   "cell_type": "code",
   "execution_count": 18,
   "id": "102bc81b",
   "metadata": {},
   "outputs": [
    {
     "name": "stdout",
     "output_type": "stream",
     "text": [
      "gender\n",
      "Male      32650\n",
      "Female    16192\n",
      "Name: count, dtype: int64\n"
     ]
    }
   ],
   "source": [
    "print(df['gender'].value_counts())"
   ]
  },
  {
   "cell_type": "code",
   "execution_count": 19,
   "id": "fe063b4a",
   "metadata": {},
   "outputs": [
    {
     "name": "stdout",
     "output_type": "stream",
     "text": [
      "education\n",
      "HS-grad         15784\n",
      "Some-college    10878\n",
      "Bachelors        8025\n",
      "Masters          2657\n",
      "Assoc-voc        2061\n",
      "11th             1812\n",
      "Assoc-acdm       1601\n",
      "10th             1389\n",
      "7th-8th           955\n",
      "Prof-school       834\n",
      "9th               756\n",
      "12th              657\n",
      "Doctorate         594\n",
      "5th-6th           509\n",
      "1st-4th           247\n",
      "Preschool          83\n",
      "Name: count, dtype: int64\n"
     ]
    }
   ],
   "source": [
    "print(df['education'].value_counts())"
   ]
  },
  {
   "cell_type": "code",
   "execution_count": 20,
   "id": "28c2f226",
   "metadata": {},
   "outputs": [
    {
     "name": "stdout",
     "output_type": "stream",
     "text": [
      "workclass\n",
      "Private             33906\n",
      "Self-emp-not-inc     3862\n",
      "Local-gov            3136\n",
      "?                    2799\n",
      "State-gov            1981\n",
      "Self-emp-inc         1695\n",
      "Federal-gov          1432\n",
      "Without-pay            21\n",
      "Never-worked           10\n",
      "Name: count, dtype: int64\n"
     ]
    }
   ],
   "source": [
    "print(df['workclass'].value_counts())"
   ]
  },
  {
   "cell_type": "code",
   "execution_count": 21,
   "id": "0cd49e9d",
   "metadata": {},
   "outputs": [
    {
     "name": "stdout",
     "output_type": "stream",
     "text": [
      "age\n",
      "36    1348\n",
      "35    1337\n",
      "33    1335\n",
      "23    1329\n",
      "31    1325\n",
      "      ... \n",
      "88       6\n",
      "85       5\n",
      "87       3\n",
      "89       2\n",
      "86       1\n",
      "Name: count, Length: 74, dtype: int64\n"
     ]
    }
   ],
   "source": [
    "print(df['age'].value_counts())"
   ]
  },
  {
   "cell_type": "code",
   "execution_count": 22,
   "id": "41988b63",
   "metadata": {},
   "outputs": [],
   "source": [
    "df['occupation']=df['occupation'].replace(\"?\", \"Others\")\n",
    "df['workclass']=df['workclass'].replace(\"?\", \"Others\")\n",
    "df['native-country']=df['native-country'].replace(\"?\", \"Others\")"
   ]
  },
  {
   "cell_type": "markdown",
   "id": "2e3a87e4",
   "metadata": {},
   "source": [
    "Removing Outliers"
   ]
  },
  {
   "cell_type": "code",
   "execution_count": 23,
   "id": "3c58db20",
   "metadata": {},
   "outputs": [],
   "source": [
    "df = df[df['workclass']!='Without-pay']"
   ]
  },
  {
   "cell_type": "code",
   "execution_count": 24,
   "id": "d0a3d09b",
   "metadata": {},
   "outputs": [],
   "source": [
    "df = df[df['workclass']!='Never-worked']"
   ]
  },
  {
   "cell_type": "code",
   "execution_count": 25,
   "id": "f216b613",
   "metadata": {},
   "outputs": [],
   "source": [
    "df = df[df['occupation']!='Armed-Forces']"
   ]
  },
  {
   "cell_type": "code",
   "execution_count": 26,
   "id": "269248c2",
   "metadata": {},
   "outputs": [
    {
     "data": {
      "text/plain": [
       "(48796, 15)"
      ]
     },
     "execution_count": 26,
     "metadata": {},
     "output_type": "execute_result"
    }
   ],
   "source": [
    "df.shape"
   ]
  },
  {
   "cell_type": "code",
   "execution_count": 27,
   "id": "f5f77b94",
   "metadata": {},
   "outputs": [],
   "source": [
    "df.drop(columns=['education'], inplace=True)\n",
    "df.drop(columns=['fnlwgt'], inplace=True)"
   ]
  },
  {
   "cell_type": "code",
   "execution_count": 28,
   "id": "27d02613",
   "metadata": {},
   "outputs": [
    {
     "data": {
      "image/png": "[encoded data removed]",
      "text/plain": [
       "<Figure size 640x480 with 1 Axes>"
      ]
     },
     "metadata": {},
     "output_type": "display_data"
    }
   ],
   "source": [
    "# circle ones are not useful they are outliers\n",
    "import matplotlib.pyplot as plt\n",
    "plt.boxplot(df['age'])\n",
    "plt.show()"
   ]
  },
  {
   "cell_type": "code",
   "execution_count": 29,
   "id": "76f4b22b",
   "metadata": {},
   "outputs": [],
   "source": [
    "# Removing age outliers\n",
    "df=df[(df['age']<=75) & (df['age']>=17)]"
   ]
  },
  {
   "cell_type": "code",
   "execution_count": 30,
   "id": "ff7366fb",
   "metadata": {},
   "outputs": [
    {
     "data": {
      "image/png": "[encoded data removed]",
      "text/plain": [
       "<Figure size 640x480 with 1 Axes>"
      ]
     },
     "metadata": {},
     "output_type": "display_data"
    }
   ],
   "source": [
    "plt.boxplot(df['age'])\n",
    "plt.show()"
   ]
  },
  {
   "cell_type": "code",
   "execution_count": 31,
   "id": "d3c63400",
   "metadata": {},
   "outputs": [],
   "source": [
    "df=df[(df['educational-num']<=16)&(df['educational-num']>=5)]"
   ]
  },
  {
   "cell_type": "markdown",
   "id": "1d51f44d",
   "metadata": {},
   "source": [
    "Label Encoding"
   ]
  },
  {
   "cell_type": "code",
   "execution_count": 32,
   "id": "ffbcf39a",
   "metadata": {},
   "outputs": [],
   "source": [
    "from sklearn.preprocessing import LabelEncoder \n",
    "encoder=LabelEncoder()                     \n",
    "df['workclass']=encoder.fit_transform(df['workclass']) \n",
    "df['marital-status']=encoder.fit_transform(df['marital-status'])  \n",
    "df['occupation']=encoder.fit_transform(df['occupation'])\n",
    "df['relationship']=encoder.fit_transform(df['relationship'])    \n",
    "df['race']=encoder.fit_transform(df['race'])  \n",
    "df['gender']=encoder.fit_transform(df['gender'])    \n",
    "df['native-country']=encoder.fit_transform(df['native-country'])"
   ]
  },
  {
   "cell_type": "code",
   "execution_count": 33,
   "id": "680d5de5",
   "metadata": {},
   "outputs": [],
   "source": [
    "df['income'] = df['income'].map({'<=50K': 0, '>50K': 1})"
   ]
  },
  {
   "cell_type": "markdown",
   "id": "e06602b4",
   "metadata": {},
   "source": [
    "Splitting The Dataset"
   ]
  },
  {
   "cell_type": "code",
   "execution_count": 34,
   "id": "391deddb",
   "metadata": {},
   "outputs": [],
   "source": [
    "# Splitting the Dataset\n",
    "x = df.drop(columns=['income'])\n",
    "y = df['income']"
   ]
  },
  {
   "cell_type": "markdown",
   "id": "f6f9ed80",
   "metadata": {},
   "source": [
    "Fitting the Model"
   ]
  },
  {
   "cell_type": "code",
   "execution_count": 35,
   "id": "77a3f569",
   "metadata": {},
   "outputs": [
    {
     "name": "stdout",
     "output_type": "stream",
     "text": [
      "LogisticRegression Accuracy: 0.8162\n",
      "              precision    recall  f1-score   support\n",
      "\n",
      "           0       0.84      0.94      0.88      7000\n",
      "           1       0.71      0.45      0.55      2341\n",
      "\n",
      "    accuracy                           0.82      9341\n",
      "   macro avg       0.77      0.69      0.72      9341\n",
      "weighted avg       0.80      0.82      0.80      9341\n",
      "\n",
      "RandomForest Accuracy: 0.8453\n",
      "              precision    recall  f1-score   support\n",
      "\n",
      "           0       0.88      0.92      0.90      7000\n",
      "           1       0.72      0.63      0.67      2341\n",
      "\n",
      "    accuracy                           0.85      9341\n",
      "   macro avg       0.80      0.78      0.79      9341\n",
      "weighted avg       0.84      0.85      0.84      9341\n",
      "\n",
      "KNN Accuracy: 0.8239\n",
      "              precision    recall  f1-score   support\n",
      "\n",
      "           0       0.87      0.90      0.88      7000\n",
      "           1       0.67      0.60      0.63      2341\n",
      "\n",
      "    accuracy                           0.82      9341\n",
      "   macro avg       0.77      0.75      0.76      9341\n",
      "weighted avg       0.82      0.82      0.82      9341\n",
      "\n",
      "SVM Accuracy: 0.8426\n",
      "              precision    recall  f1-score   support\n",
      "\n",
      "           0       0.86      0.94      0.90      7000\n",
      "           1       0.75      0.55      0.64      2341\n",
      "\n",
      "    accuracy                           0.84      9341\n",
      "   macro avg       0.81      0.75      0.77      9341\n",
      "weighted avg       0.84      0.84      0.83      9341\n",
      "\n",
      "GradientBoosting Accuracy: 0.8585\n",
      "              precision    recall  f1-score   support\n",
      "\n",
      "           0       0.88      0.94      0.91      7000\n",
      "           1       0.78      0.60      0.68      2341\n",
      "\n",
      "    accuracy                           0.86      9341\n",
      "   macro avg       0.83      0.77      0.79      9341\n",
      "weighted avg       0.85      0.86      0.85      9341\n",
      "\n"
     ]
    }
   ],
   "source": [
    "from sklearn.pipeline import Pipeline\n",
    "from sklearn.model_selection import train_test_split\n",
    "from sklearn.metrics import accuracy_score, classification_report\n",
    "from sklearn.linear_model import LogisticRegression\n",
    "from sklearn.ensemble import RandomForestClassifier, GradientBoostingClassifier\n",
    "from sklearn.neighbors import KNeighborsClassifier\n",
    "from sklearn.svm import SVC\n",
    "from sklearn.preprocessing import StandardScaler, OneHotEncoder\n",
    "\n",
    "X_train, X_test, y_train, y_test = train_test_split(x, y, test_size=0.2, random_state=42)\n",
    "\n",
    "models = {\n",
    "    \"LogisticRegression\": LogisticRegression(),\n",
    "    \"RandomForest\": RandomForestClassifier(),\n",
    "    \"KNN\": KNeighborsClassifier(),\n",
    "    \"SVM\": SVC(),\n",
    "    \"GradientBoosting\": GradientBoostingClassifier()\n",
    "}\n",
    "\n",
    "results = {}\n",
    "\n",
    "for name, model in models.items():\n",
    "    pipe = Pipeline([\n",
    "        ('scaler', StandardScaler()),\n",
    "        ('model', model)\n",
    "    ])\n",
    "    \n",
    "    pipe.fit(X_train, y_train)\n",
    "    y_pred = pipe.predict(X_test)\n",
    "    acc = accuracy_score(y_test, y_pred)\n",
    "    results[name] = acc\n",
    "    print(f\"{name} Accuracy: {acc:.4f}\")\n",
    "    print(classification_report(y_test, y_pred))\n"
   ]
  },
  {
   "cell_type": "code",
   "execution_count": 36,
   "id": "668b44b0",
   "metadata": {},
   "outputs": [
    {
     "data": {
      "image/png": "[encoded data removed]",
      "text/plain": [
       "<Figure size 640x480 with 1 Axes>"
      ]
     },
     "metadata": {},
     "output_type": "display_data"
    }
   ],
   "source": [
    "import matplotlib.pyplot as plt\n",
    "plt.bar(results.keys(), results.values(), color='skyblue')\n",
    "plt.ylabel('Accuracy Score')\n",
    "plt.title('Model Comparison')\n",
    "plt.xticks(rotation=45)\n",
    "plt.grid(True)\n",
    "plt.show()\n"
   ]
  },
  {
   "cell_type": "code",
   "execution_count": null,
   "id": "b507074b",
   "metadata": {},
   "outputs": [
    {
     "name": "stderr",
     "output_type": "stream",
     "text": [
      "c:\\Users\\ashwi\\AppData\\Local\\Programs\\Python\\Python311\\Lib\\site-packages\\sklearn\\linear_model\\_logistic.py:469: ConvergenceWarning: lbfgs failed to converge (status=1):\n",
      "STOP: TOTAL NO. of ITERATIONS REACHED LIMIT.\n",
      "\n",
      "Increase the number of iterations (max_iter) or scale the data as shown in:\n",
      "    https://scikit-learn.org/stable/modules/preprocessing.html\n",
      "Please also refer to the documentation for alternative solver options:\n",
      "    https://scikit-learn.org/stable/modules/linear_model.html#logistic-regression\n",
      "  n_iter_i = _check_optimize_result(\n"
     ]
    },
    {
     "name": "stdout",
     "output_type": "stream",
     "text": [
      "LogisticRegression: 0.8101\n",
      "RandomForest: 0.8476\n",
      "KNN: 0.8408\n",
      "SVM: 0.7953\n",
      "GradientBoosting: 0.8585\n",
      "\n",
      "✅ Best model: GradientBoosting with accuracy 0.8585\n",
      "✅ Saved best model as best_model.pkl\n"
     ]
    }
   ],
   "source": [
    "from sklearn.linear_model import LogisticRegression\n",
    "from sklearn.ensemble import RandomForestClassifier, GradientBoostingClassifier\n",
    "from sklearn.neighbors import KNeighborsClassifier\n",
    "from sklearn.svm import SVC\n",
    "from sklearn.model_selection import train_test_split\n",
    "from sklearn.metrics import accuracy_score\n",
    "import joblib\n",
    "\n",
    "models = {\n",
    "    \"LogisticRegression\": LogisticRegression(max_iter=1000),\n",
    "    \"RandomForest\": RandomForestClassifier(),\n",
    "    \"KNN\": KNeighborsClassifier(),\n",
    "    \"SVM\": SVC(),\n",
    "    \"GradientBoosting\": GradientBoostingClassifier()\n",
    "}\n",
    "\n",
    "results = {}\n",
    "\n",
    "for name, model in models.items():\n",
    "    model.fit(X_train, y_train)\n",
    "    preds = model.predict(X_test)\n",
    "    acc = accuracy_score(y_test, preds)\n",
    "    results[name] = acc\n",
    "    print(f\"{name}: {acc:.4f}\")\n",
    "\n",
    "best_model_name = max(results, key=results.get)\n",
    "best_model = models[best_model_name]\n",
    "print(f\"\\n✅ Best model: {best_model_name} with accuracy {results[best_model_name]:.4f}\")\n",
    "\n",
    "\n",
    "joblib.dump(best_model, \"best_model.pkl\")\n",
    "print(\"✅ Saved best model as best_model.pkl\")\n"
   ]
  },
  {
   "cell_type": "code",
   "execution_count": null,
   "id": "39f8ffc3",
   "metadata": {},
   "outputs": [
    {
     "name": "stdout",
     "output_type": "stream",
     "text": [
      "Overwriting app.py\n"
     ]
    }
   ],
   "source": [
    "%%writefile app.py\n",
    "import streamlit as st\n",
    "import pandas as pd\n",
    "import joblib\n",
    "\n",
    "# Load the trained model\n",
    "model = joblib.load(\"best_model.pkl\")\n",
    "\n",
    "st.set_page_config(page_title=\"Employee Salary Classification\", page_icon=\"💲\", layout=\"centered\")\n",
    "\n",
    "st.title(\"Employee Salary Classification App💲\")\n",
    "st.markdown(\"Predict whether an employee earns >50K or ≤50K based on input features.\")\n",
    "\n",
    "# Sidebar inputs (these must match your training feature columns)\n",
    "st.sidebar.header(\"Input Employee Details\")\n",
    "\n",
    "# ✨ Replace these fields with your dataset's actual input columns\n",
    "age = st.sidebar.slider(\"Age\", 18, 65, 30)\n",
    "gender = st.sidebar.selectbox(\"Gender\", [\n",
    "    \"Male\", \"Female\"\n",
    "])\n",
    "\n",
    "race = st.sidebar.selectbox(\"Race\", [\n",
    "    \"White\", \"Black\", \"Asian-Pac-Islander\", \"Amer-Indian-Eskimo\", \"Other\"\n",
    "])\n",
    "\n",
    "native_country = st.sidebar.selectbox(\"Native Country\", [\n",
    "    \"United-States\", \"Mexico\", \"Philippines\", \"Germany\", \"Canada\",\n",
    "    \"India\", \"Puerto-Rico\", \"El-Salvador\", \"Cuba\", \"England\",\n",
    "    \"Jamaica\", \"South\", \"China\", \"Italy\", \"Dominican-Republic\",\n",
    "    \"Vietnam\", \"Guatemala\", \"Japan\", \"Poland\", \"Columbia\",\n",
    "    \"Haiti\", \"Iran\", \"Taiwan\", \"Portugal\", \"Nicaragua\",\n",
    "    \"Peru\", \"France\", \"Ecuador\", \"Ireland\", \"Cambodia\",\n",
    "    \"Laos\", \"Thailand\", \"Scotland\", \"Yugoslavia\", \"Hungary\",\n",
    "    \"Trinadad&Tobago\", \"Greece\", \"Hong\", \"Holand-Netherlands\",\n",
    "    \"Others\"\n",
    "])\n",
    "\n",
    "education_map = {\n",
    "    \"9th\": 5,\n",
    "    \"10th\": 6,\n",
    "    \"11th\": 7,\n",
    "    \"12th\": 8,\n",
    "    \"HS-grad\": 9,\n",
    "    \"Some-college\": 10,\n",
    "    \"Assoc-voc\": 11,\n",
    "    \"Assoc-acdm\": 12,\n",
    "    \"Bachelors\": 13,\n",
    "    \"Masters\": 14,\n",
    "    \"Doctorate\": 15\n",
    "}\n",
    "\n",
    "selected_education = st.sidebar.selectbox(\"Select your education level\", list(education_map.keys()))\n",
    "educational_num = education_map[selected_education]\n",
    "\n",
    "marital_status = st.sidebar.selectbox(\"Marital Status\", [\n",
    "    \"Married-civ-spouse\", \"Divorced\", \"Never-married\", \"Separated\",\n",
    "    \"Widowed\", \"Married-spouse-absent\", \"Married-AF-spouse\"\n",
    "])\n",
    "\n",
    "relationship = st.sidebar.selectbox(\"Relationship\", [\n",
    "    \"Husband\", \"Wife\", \"Not-in-family\", \"Own-child\",\n",
    "    \"Unmarried\", \"Other-relative\"\n",
    "])\n",
    "\n",
    "occupation = st.sidebar.selectbox(\"Job Role\", [\n",
    "    \"Tech-support\", \"Craft-repair\", \"Other-service\", \"Sales\",\n",
    "    \"Exec-managerial\", \"Prof-specialty\", \"Handlers-cleaners\", \"Machine-op-inspct\",\n",
    "    \"Adm-clerical\", \"Farming-fishing\", \"Transport-moving\", \"Priv-house-serv\",\n",
    "    \"Protective-serv\"\n",
    "])\n",
    "workclass = st.sidebar.selectbox(\"WorkClass\", [\n",
    "    \"Private\", \"Self-emp-not-inc\", \"Local-gov\", \"State-gov\", \"Self-emp-inc\", \"Federal-gov\", \"Others\"\n",
    "])\n",
    "hours_per_week = st.sidebar.slider(\"Hours per week\", 1, 80, 40)\n",
    "capital_gain = st.sidebar.slider(\"Capital Gain\", 0, 99999, 1000)\n",
    "capital_loss = st.sidebar.slider(\"Capital Loss\", 0, 4300, 500)\n",
    "\n",
    "# Build input DataFrame (⚠️ must match preprocessing of your training data)\n",
    "input_df = pd.DataFrame({\n",
    "    'age': [age],\n",
    "    'workclass': [workclass],\n",
    "    'educational-num': [educational_num],\n",
    "    'marital-status': [marital_status],\n",
    "    'occupation': [occupation],\n",
    "    'relationship': [relationship],\n",
    "    'race': [race],\n",
    "    'gender':[gender],\n",
    "    'capital-gain': [capital_gain],\n",
    "    'capital-loss': [capital_loss],\n",
    "    'hours-per-week': [hours_per_week],\n",
    "    'native-country': [native_country]\n",
    "})\n",
    "\n",
    "st.write(\"### 🔎 Input Data\")\n",
    "st.write(input_df)\n",
    "\n",
    "# Encoding\n",
    "from sklearn.preprocessing import LabelEncoder\n",
    "\n",
    "# Recreate encoder and apply it (same categories as in training)\n",
    "encoder = LabelEncoder()\n",
    "\n",
    "input_df['workclass'] = encoder.fit_transform(input_df['workclass'])\n",
    "input_df['marital-status'] = encoder.fit_transform(input_df['marital-status'])\n",
    "input_df['occupation'] = encoder.fit_transform(input_df['occupation'])\n",
    "input_df['relationship'] = encoder.fit_transform(input_df['relationship'])\n",
    "input_df['race'] = encoder.fit_transform(input_df['race'])\n",
    "input_df['gender'] = encoder.fit_transform(input_df['gender'])\n",
    "input_df['native-country'] = encoder.fit_transform(input_df['native-country'])\n",
    "\n",
    "\n",
    "# Predict button\n",
    "if st.button(\"Predict Salary Class\"):\n",
    "    prediction = model.predict(input_df)\n",
    "    if prediction == 1:\n",
    "        st.success(\"Predicted Income: >50K 🤑\")\n",
    "        st.balloons()\n",
    "    else:\n",
    "        st.warning(\"Predicted Income: <=50K 💼\")\n",
    "\n",
    "\n"
   ]
  },
  {
   "cell_type": "code",
   "execution_count": 5,
   "id": "d19ed9ba",
   "metadata": {},
   "outputs": [
    {
     "name": "stdout",
     "output_type": "stream",
     "text": [
      "^C\n"
     ]
    }
   ],
   "source": [
    "!streamlit run app.py"
   ]
  }
 ],
 "metadata": {
  "kernelspec": {
   "display_name": "Python 3",
   "language": "python",
   "name": "python3"
  },
  "language_info": {
   "codemirror_mode": {
    "name": "ipython",
    "version": 3
   },
   "file_extension": ".py",
   "mimetype": "text/x-python",
   "name": "python",
   "nbconvert_exporter": "python",
   "pygments_lexer": "ipython3",
   "version": "3.11.5"
  }
 },
 "nbformat": 4,
 "nbformat_minor": 5
}
